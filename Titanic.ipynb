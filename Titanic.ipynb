{
  "nbformat": 4,
  "nbformat_minor": 0,
  "metadata": {
    "colab": {
      "name": "Titanic.ipynb",
      "provenance": [],
      "collapsed_sections": []
    },
    "kernelspec": {
      "name": "python3",
      "display_name": "Python 3"
    }
  },
  "cells": [
    {
      "cell_type": "markdown",
      "metadata": {
        "id": "DPnunUxeus3o"
      },
      "source": [
        "### Google Colab Setting"
      ]
    },
    {
      "cell_type": "code",
      "metadata": {
        "colab": {
          "base_uri": "https://localhost:8080/"
        },
        "id": "JkTfVpP58bF5",
        "outputId": "4dc718b6-025c-4bd4-f72d-fbca72f50138"
      },
      "source": [
        "from google.colab import drive\n",
        "drive.mount('/content/gdrive')\n",
        "%cd gdrive/MyDrive/Interview/titanic/"
      ],
      "execution_count": 2,
      "outputs": [
        {
          "output_type": "stream",
          "text": [
            "Drive already mounted at /content/gdrive; to attempt to forcibly remount, call drive.mount(\"/content/gdrive\", force_remount=True).\n",
            "/content/gdrive/MyDrive/Interview/titanic\n"
          ],
          "name": "stdout"
        }
      ]
    },
    {
      "cell_type": "markdown",
      "metadata": {
        "id": "IKm778T3oyLG"
      },
      "source": [
        "### Modeling"
      ]
    },
    {
      "cell_type": "code",
      "metadata": {
        "colab": {
          "base_uri": "https://localhost:8080/"
        },
        "id": "a6ldD2IR9rdM",
        "outputId": "dfd72aeb-6b4c-4947-f073-0a89322ea289"
      },
      "source": [
        "import pandas as pd\n",
        "train = pd.read_csv('train.csv')\n",
        "test = pd.read_csv('test.csv')\n",
        "target = train['Survived'].values\n",
        "train.drop(columns=['Survived'], inplace=True)\n",
        "df_all = pd.concat([train, test]).reset_index()\n",
        "print('Number of records in train.csv:', len(train))\n",
        "print('Number of records in test.csv:', len(test))\n",
        "print('Total records:', len(df_all))\n",
        "\n",
        "def transform_name(name):\n",
        "  name_type = {'Mr.':1, 'Mrs.':2, 'Miss.':3, 'Master': 4}\n",
        "  for title in name_type:\n",
        "    if title in name:\n",
        "      return name_type[title]\n",
        "  return 0\n",
        "\n",
        "def transform_text(text):\n",
        "  if type(text) == str:\n",
        "    return text.split()[0].strip('1234567890')\n",
        "  else:\n",
        "    return 'None'\n",
        "\n",
        "### preprocessing\n",
        "df_all['Name'] = df_all['Name'].apply(transform_name)\n",
        "df_all['Name'] = df_all['Name'].astype('category')\n",
        "drop_columns = ['index', 'PassengerId', 'Ticket']\n",
        "df_all.drop(columns=drop_columns, inplace=True)\n",
        "# mean_age = df_all['Age'].mean()\n",
        "# df_all['Age'] = df_all['Age'].fillna(mean_age)\n",
        "df_all['Age'] = df_all.groupby(['Sex', 'Name'])['Age'].apply(lambda x: x.fillna(x.median()))\n",
        "df_all['Fare'] = df_all['Fare'].fillna(df_all['Fare'].mean())\n",
        "# df_all['Fare'] = pd.qcut(df_all['Fare'], 5)\n",
        "# df_all['Age'] = pd.qcut(df_all['Age'], 5)\n",
        "df_all['Cabin'] = df_all['Cabin'].apply(transform_text)\n",
        "df_all['Pclass'] = df_all['Pclass'].astype('category')\n",
        "df_all['Embarked'] = df_all['Embarked'].fillna('S')"
      ],
      "execution_count": 3,
      "outputs": [
        {
          "output_type": "stream",
          "text": [
            "Number of records in train.csv: 891\n",
            "Number of records in test.csv: 418\n",
            "Total records: 1309\n"
          ],
          "name": "stdout"
        }
      ]
    },
    {
      "cell_type": "code",
      "metadata": {
        "id": "a3YvwKvM6X9E"
      },
      "source": [
        "# map_cabin = {'A':'AG', 'B':'BDE', 'C':'CF', 'D':'BDE', 'E':'BDE', 'F':'CF', 'G':'AG', 'T':'T', 'None':'None'}\n",
        "# map_cabin = {'A':'A', 'B':'A', 'C':'A', 'D':'A', 'E':'A', 'F':'A', 'G':'A', 'T':'None', 'None':'None'}\n",
        "# df_all['Cabin'] = df_all['Cabin'].map(map_cabin)"
      ],
      "execution_count": 4,
      "outputs": []
    },
    {
      "cell_type": "code",
      "metadata": {
        "colab": {
          "base_uri": "https://localhost:8080/"
        },
        "id": "5nu_6lpnyON0",
        "outputId": "bc7767df-2eba-478e-adbd-c067f789291e"
      },
      "source": [
        "dummy_df_all = pd.get_dummies(df_all)\n",
        "print(dummy_df_all.info())\n",
        "train_data = dummy_df_all.iloc[:891].values\n",
        "test_data = dummy_df_all.iloc[891:].values"
      ],
      "execution_count": 5,
      "outputs": [
        {
          "output_type": "stream",
          "text": [
            "<class 'pandas.core.frame.DataFrame'>\n",
            "RangeIndex: 1309 entries, 0 to 1308\n",
            "Data columns (total 26 columns):\n",
            " #   Column      Non-Null Count  Dtype  \n",
            "---  ------      --------------  -----  \n",
            " 0   Age         1309 non-null   float64\n",
            " 1   SibSp       1309 non-null   int64  \n",
            " 2   Parch       1309 non-null   int64  \n",
            " 3   Fare        1309 non-null   float64\n",
            " 4   Pclass_1    1309 non-null   uint8  \n",
            " 5   Pclass_2    1309 non-null   uint8  \n",
            " 6   Pclass_3    1309 non-null   uint8  \n",
            " 7   Name_0      1309 non-null   uint8  \n",
            " 8   Name_1      1309 non-null   uint8  \n",
            " 9   Name_2      1309 non-null   uint8  \n",
            " 10  Name_3      1309 non-null   uint8  \n",
            " 11  Name_4      1309 non-null   uint8  \n",
            " 12  Sex_female  1309 non-null   uint8  \n",
            " 13  Sex_male    1309 non-null   uint8  \n",
            " 14  Cabin_A     1309 non-null   uint8  \n",
            " 15  Cabin_B     1309 non-null   uint8  \n",
            " 16  Cabin_C     1309 non-null   uint8  \n",
            " 17  Cabin_D     1309 non-null   uint8  \n",
            " 18  Cabin_E     1309 non-null   uint8  \n",
            " 19  Cabin_F     1309 non-null   uint8  \n",
            " 20  Cabin_G     1309 non-null   uint8  \n",
            " 21  Cabin_None  1309 non-null   uint8  \n",
            " 22  Cabin_T     1309 non-null   uint8  \n",
            " 23  Embarked_C  1309 non-null   uint8  \n",
            " 24  Embarked_Q  1309 non-null   uint8  \n",
            " 25  Embarked_S  1309 non-null   uint8  \n",
            "dtypes: float64(2), int64(2), uint8(22)\n",
            "memory usage: 69.2 KB\n",
            "None\n"
          ],
          "name": "stdout"
        }
      ]
    },
    {
      "cell_type": "code",
      "metadata": {
        "colab": {
          "base_uri": "https://localhost:8080/"
        },
        "id": "UFF3scIZbHY2",
        "outputId": "7366b078-dacc-4ac5-e071-8e132cfa1d32"
      },
      "source": [
        "\"\"\"\n",
        "from sklearn.tree import DecisionTreeClassifier\n",
        "decision_tree = DecisionTreeClassifier(max_depth=200)\n",
        "decision_tree.fit(X_train, y_train)\n",
        "y_pred = decision_tree.predict(X_val)\n",
        "\"\"\"\n",
        "\"\"\"\n",
        "from sklearn.ensemble import RandomForestClassifier\n",
        "classifier = RandomForestClassifier(criterion='gini', \n",
        "                  n_estimators=1100,\n",
        "                  max_depth=5,\n",
        "                  min_samples_split=4,\n",
        "                  min_samples_leaf=5,\n",
        "                  max_features='auto',\n",
        "                  oob_score=True,\n",
        "                  random_state=123,\n",
        "                  n_jobs=-1)\n",
        "classifier.fit(X_train, y_train)\n",
        "y_pred = classifier.predict(X_val)\n",
        "\"\"\"\n",
        "\n",
        "from sklearn.ensemble import GradientBoostingClassifier, RandomForestClassifier\n",
        "from sklearn.metrics import accuracy_score, confusion_matrix\n",
        "from sklearn.model_selection import cross_val_score, GridSearchCV\n",
        "\n",
        "params = {'n_estimators':[30, 40, 50, 60, 70],\n",
        "      'max_depth':[2, 4],\n",
        "      'oob_score':[True, False],\n",
        "      'min_samples_split':[2, 4],\n",
        "      'min_samples_leaf':[1, 3, 5]}\n",
        "clf = RandomForestClassifier()\n",
        "\n",
        "\"\"\"\n",
        "params = {'n_estimators':[20, 30, 40, 50],\n",
        "      'max_depth':[4, 6, 8],\n",
        "      'min_samples_split':[2, 4],\n",
        "      'min_samples_leaf':[1, 3, 5]}\n",
        "clf = GradientBoostingClassifier()\n",
        "\"\"\"\n",
        "grid_clf = GridSearchCV(clf, params, cv=5)\n",
        "grid_clf.fit(train_data, target)\n",
        "print('grid search best score:', grid_clf.best_score_)\n",
        "print('grid search best params:', grid_clf.best_params_)\n",
        "\n",
        "classifier = grid_clf.best_estimator_\n",
        "# classifier.fit(train_data, target)\n",
        "y_pred = classifier.predict(train_data)\n",
        "print('Training Accuracy:', accuracy_score(target, y_pred))\n",
        "\n",
        "\"\"\"\n",
        "y_pred = classifier.predict(X_val)\n",
        "print('Validation Accuracy:', accuracy_score(y_val, y_pred))\n",
        "\n",
        "y_pred = classifier.predict(X_train)\n",
        "print('Training Accuracy:', accuracy_score(y_train, y_pred))\n",
        "\"\"\"\n",
        "### creating submission file\n",
        "test_id = pd.read_csv('test.csv')['PassengerId']\n",
        "y_pred = classifier.predict(test_data)\n",
        "submission = pd.DataFrame()\n",
        "submission['PassengerId'] = test_id\n",
        "submission['Survived'] = y_pred\n",
        "submission.to_csv('submission.csv', index=False)"
      ],
      "execution_count": 6,
      "outputs": [
        {
          "output_type": "stream",
          "text": [
            "grid search best score: 0.8215554579122465\n",
            "grid search best params: {'max_depth': 4, 'min_samples_leaf': 3, 'min_samples_split': 2, 'n_estimators': 40, 'oob_score': True}\n",
            "Training Accuracy: 0.8249158249158249\n"
          ],
          "name": "stdout"
        }
      ]
    },
    {
      "cell_type": "code",
      "metadata": {
        "id": "vawcQudo5Q1E",
        "colab": {
          "base_uri": "https://localhost:8080/"
        },
        "outputId": "b0f4cdfc-35e2-4491-a228-9586ca4d30d1"
      },
      "source": [
        "print(classifier)"
      ],
      "execution_count": 7,
      "outputs": [
        {
          "output_type": "stream",
          "text": [
            "RandomForestClassifier(bootstrap=True, ccp_alpha=0.0, class_weight=None,\n",
            "                       criterion='gini', max_depth=4, max_features='auto',\n",
            "                       max_leaf_nodes=None, max_samples=None,\n",
            "                       min_impurity_decrease=0.0, min_impurity_split=None,\n",
            "                       min_samples_leaf=3, min_samples_split=2,\n",
            "                       min_weight_fraction_leaf=0.0, n_estimators=40,\n",
            "                       n_jobs=None, oob_score=True, random_state=None,\n",
            "                       verbose=0, warm_start=False)\n"
          ],
          "name": "stdout"
        }
      ]
    },
    {
      "cell_type": "code",
      "metadata": {
        "colab": {
          "base_uri": "https://localhost:8080/",
          "height": 298
        },
        "id": "LLu1eqNoo5QB",
        "outputId": "e86d3168-4ec0-4e77-adc5-a9909c6806ce"
      },
      "source": [
        "### feature importance visualization\n",
        "import numpy as np\n",
        "import matplotlib.pyplot as plt\n",
        "importances = classifier.feature_importances_\n",
        "indices = np.argsort(importances)\n",
        "columns = np.array(dummy_df_all.columns)\n",
        "plt.title(\"Feature importances\")\n",
        "plt.barh(columns[indices], importances[indices], align=\"center\")"
      ],
      "execution_count": 10,
      "outputs": [
        {
          "output_type": "execute_result",
          "data": {
            "text/plain": [
              "<BarContainer object of 26 artists>"
            ]
          },
          "metadata": {
            "tags": []
          },
          "execution_count": 10
        },
        {
          "output_type": "display_data",
          "data": {
            "image/png": "[encoded data removed]",
            "text/plain": [
              "<Figure size 432x288 with 1 Axes>"
            ]
          },
          "metadata": {
            "tags": [],
            "needs_background": "light"
          }
        }
      ]
    },
    {
      "cell_type": "markdown",
      "metadata": {
        "id": "IbPTxJQPmt7y"
      },
      "source": [
        "### Data Visualization\n"
      ]
    },
    {
      "cell_type": "code",
      "metadata": {
        "colab": {
          "base_uri": "https://localhost:8080/",
          "height": 366
        },
        "id": "vZHJ1C-9inLr",
        "outputId": "6d99aac8-b3fc-4867-8608-7f956ec9613a"
      },
      "source": [
        "### Pclass v.s. Fare\n",
        "import pandas as pd\n",
        "train = pd.read_csv('train.csv')\n",
        "target_cols = train[['Pclass', 'Fare']]\n",
        "target_cols.dropna(inplace=True)\n",
        "x_axis = target_cols['Pclass'].values\n",
        "y_axis = target_cols['Fare'].values\n",
        "\n",
        "import matplotlib.pyplot as plt\n",
        "plt.scatter(x_axis, y_axis)"
      ],
      "execution_count": 13,
      "outputs": [
        {
          "output_type": "stream",
          "text": [
            "/usr/local/lib/python3.6/dist-packages/ipykernel_launcher.py:5: SettingWithCopyWarning: \n",
            "A value is trying to be set on a copy of a slice from a DataFrame\n",
            "\n",
            "See the caveats in the documentation: https://pandas.pydata.org/pandas-docs/stable/user_guide/indexing.html#returning-a-view-versus-a-copy\n",
            "  \"\"\"\n"
          ],
          "name": "stderr"
        },
        {
          "output_type": "execute_result",
          "data": {
            "text/plain": [
              "<matplotlib.collections.PathCollection at 0x7ff8d818fcc0>"
            ]
          },
          "metadata": {
            "tags": []
          },
          "execution_count": 13
        },
        {
          "output_type": "display_data",
          "data": {
            "image/png": "[encoded data removed]",
            "text/plain": [
              "<Figure size 432x288 with 1 Axes>"
            ]
          },
          "metadata": {
            "tags": [],
            "needs_background": "light"
          }
        }
      ]
    },
    {
      "cell_type": "code",
      "metadata": {
        "id": "5-UwqQAbvQDL",
        "colab": {
          "base_uri": "https://localhost:8080/",
          "height": 282
        },
        "outputId": "aa8682dc-a126-4a6e-dbfe-d67e8d7c5fe9"
      },
      "source": [
        "### Cabin v.s. Survival\n",
        "def transform_text(text):\n",
        "  if type(text) == str:\n",
        "    return text.split()[0].strip('1234567890')\n",
        "  else:\n",
        "    return 'None'\n",
        "\n",
        "import pandas as pd\n",
        "import numpy as np\n",
        "import matplotlib.pyplot as plt\n",
        "train = pd.read_csv('train.csv')\n",
        "train['Cabin'] = train['Cabin'].apply(transform_text)\n",
        "class_count_group = train.groupby(['Survived', 'Cabin'])\n",
        "classes = train['Cabin'].unique()\n",
        "class_size = [0 for i in range(classes.size)]\n",
        "class_survive_size = [0 for i in range(classes.size)]\n",
        "for group, df in class_count_group:\n",
        "  idx = np.where(classes == group[1])[0][0]\n",
        "  if group[0] == 1: # survival\n",
        "    class_survive_size[idx] = len(df)\n",
        "  class_size[idx] += len(df)\n",
        "class_survival_rate = [class_survive_size[i]/class_size[i] for i in range(classes.size)]\n",
        "plt.bar(classes, class_survival_rate)"
      ],
      "execution_count": 14,
      "outputs": [
        {
          "output_type": "execute_result",
          "data": {
            "text/plain": [
              "<BarContainer object of 9 artists>"
            ]
          },
          "metadata": {
            "tags": []
          },
          "execution_count": 14
        },
        {
          "output_type": "display_data",
          "data": {
            "image/png": "[encoded data removed]",
            "text/plain": [
              "<Figure size 432x288 with 1 Axes>"
            ]
          },
          "metadata": {
            "tags": [],
            "needs_background": "light"
          }
        }
      ]
    },
    {
      "cell_type": "code",
      "metadata": {
        "id": "s8sDuDegxJ7j"
      },
      "source": [
        ""
      ],
      "execution_count": null,
      "outputs": []
    }
  ]
}